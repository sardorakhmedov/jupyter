{
 "cells": [
  {
   "cell_type": "code",
   "execution_count": 1,
   "id": "d50af17d-7825-47e2-83b8-84b96e82469f",
   "metadata": {},
   "outputs": [
    {
     "name": "stdout",
     "output_type": "stream",
     "text": [
      "12\n"
     ]
    }
   ],
   "source": [
    "x = 12\n",
    "print(x)"
   ]
  },
  {
   "cell_type": "code",
   "execution_count": 2,
   "id": "506f53a8-96aa-4ba3-917c-ebb97615558e",
   "metadata": {},
   "outputs": [
    {
     "name": "stdout",
     "output_type": "stream",
     "text": [
      "<class 'bool'>\n",
      "string\n",
      "[3, 4, 5]\n",
      "{'aa': 1, 'bb': 2}\n",
      "1\n",
      "<class 'NoneType'>\n"
     ]
    }
   ],
   "source": [
    "a=True\n",
    "t=type(a)\n",
    "print (t)\n",
    "l=\"string\"\n",
    "print(l)\n",
    "b=[3,4,5]\n",
    "print(b)\n",
    "c={'aa':1, \"bb\":2}\n",
    "print(c)\n",
    "print(c['aa'])\n",
    "d = None\n",
    "print(type(d))"
   ]
  },
  {
   "cell_type": "code",
   "execution_count": 3,
   "id": "380a02de-829a-46e6-a596-3ab813041937",
   "metadata": {},
   "outputs": [
    {
     "name": "stdout",
     "output_type": "stream",
     "text": [
      "корень из 169 равен  13.0\n",
      "факториал 6 равен  720\n",
      "логарифм 32 по основанию 2 равен  5.0\n"
     ]
    }
   ],
   "source": [
    "import math\n",
    "\n",
    "# Квадратный корень из 169\n",
    "p = math.sqrt(169)\n",
    "print('корень из 169 равен ', p)\n",
    "\n",
    "# Факториал числа 6\n",
    "p = math.factorial(6)\n",
    "print('факториал 6 равен ', p)\n",
    "\n",
    "# Логарифм 32 по основанию 2\n",
    "p = math.log(32, 2)\n",
    "print('логарифм 32 по основанию 2 равен ', p)\n"
   ]
  },
  {
   "cell_type": "code",
   "execution_count": 4,
   "id": "dcfc66f9-d8e8-4ed0-b061-f9607181ca98",
   "metadata": {},
   "outputs": [
    {
     "name": "stdout",
     "output_type": "stream",
     "text": [
      "First variable: True, second variable: 10\n",
      "равно 10\n",
      "Item: apple\n",
      "Item: banana\n",
      "Item: cherry\n",
      "Число от 5 до 29: 5\n",
      "Число от 5 до 29: 6\n",
      "Число от 5 до 29: 7\n",
      "Число от 5 до 29: 8\n",
      "Число от 5 до 29: 9\n",
      "Число от 5 до 29: 10\n",
      "Число от 5 до 29: 11\n",
      "Число от 5 до 29: 12\n",
      "Число от 5 до 29: 13\n",
      "Число от 5 до 29: 14\n",
      "Число от 5 до 29: 15\n",
      "Число от 5 до 29: 16\n",
      "Число от 5 до 29: 17\n",
      "Число от 5 до 29: 18\n",
      "Число от 5 до 29: 19\n",
      "Число от 5 до 29: 20\n",
      "Число от 5 до 29: 21\n",
      "Число от 5 до 29: 22\n",
      "Число от 5 до 29: 23\n",
      "Число от 5 до 29: 24\n",
      "Число от 5 до 29: 25\n",
      "Число от 5 до 29: 26\n",
      "Число от 5 до 29: 27\n",
      "Число от 5 до 29: 28\n",
      "Число от 5 до 29: 29\n"
     ]
    }
   ],
   "source": [
    "x = 10\n",
    "flag = True\n",
    "print('First variable: %s, second variable: %d' % (flag, x))\n",
    "\n",
    "if x < 10:\n",
    "    print('меньше 10')\n",
    "elif x == 10:\n",
    "    print('равно 10')\n",
    "else:\n",
    "    print('больше 10')\n",
    "\n",
    "items = [\"apple\", \"banana\", \"cherry\"]\n",
    "for item in items:\n",
    "    print('Item:', item)\n",
    "\n",
    "for num in range(5, 30):\n",
    "    print('Число от 5 до 29:', num)\n"
   ]
  },
  {
   "cell_type": "code",
   "execution_count": 5,
   "id": "7feec8d7-7d41-41e3-a4d4-f2abd253c995",
   "metadata": {},
   "outputs": [
    {
     "name": "stdout",
     "output_type": "stream",
     "text": [
      "Countdown: 10\n",
      "Countdown: 9\n",
      "Countdown: 8\n",
      "Countdown: 7\n",
      "Countdown: 6\n",
      "Countdown: 5\n",
      "Countdown: 4\n",
      "Countdown: 3\n",
      "Countdown: 2\n",
      "Countdown: 1\n",
      "Время вышло!\n"
     ]
    }
   ],
   "source": [
    "import time\n",
    "for i in range(10, 0, -1):\n",
    "    time.sleep(1)\n",
    "    print(f\"Countdown: {i}\")\n",
    "    \n",
    "print(\"Время вышло!\")\n"
   ]
  },
  {
   "cell_type": "code",
   "execution_count": 6,
   "id": "68a58cf8-8bf5-4d09-85c8-015e34cfca32",
   "metadata": {},
   "outputs": [
    {
     "name": "stdout",
     "output_type": "stream",
     "text": [
      "10\n",
      "20\n",
      "30\n",
      "40\n",
      "50\n"
     ]
    }
   ],
   "source": [
    "x = 5\n",
    "while x <= 25:\n",
    "    print(x * 2)\n",
    "    x += 5\n"
   ]
  },
  {
   "cell_type": "code",
   "execution_count": 7,
   "id": "46599b87-c3bd-46c2-af31-74fb303ab565",
   "metadata": {},
   "outputs": [
    {
     "name": "stdout",
     "output_type": "stream",
     "text": [
      "21\n",
      "64\n",
      "80\n",
      "40\n"
     ]
    }
   ],
   "source": [
    "def multiply(x, y):\n",
    "    return x * y\n",
    "print(multiply(3, 7))\n",
    "\n",
    "b = lambda a: a ** 3\n",
    "print(b(4))\n",
    "\n",
    "b = lambda x, y: (x + y) * (x - y)\n",
    "print(b(12, 8))\n",
    "\n",
    "b = lambda p, q, r: (p * q) + r\n",
    "print(b(5, 6, 10))\n",
    "\n"
   ]
  },
  {
   "cell_type": "markdown",
   "id": "03c93d55-692e-42a5-9338-187b0f2c934e",
   "metadata": {},
   "source": [
    "<h1>Heading 1</h1>\n",
    "<h2>Heading 2 </h2>\n",
    "<h3>Heading 3 </h3>\n",
    "<h4>Heading 4 </h4>\n",
    "<h5>Heading 5 </h5>\n",
    "<h6>Heading 6 </h6>"
   ]
  },
  {
   "cell_type": "markdown",
   "id": "216a11d1-3b55-4ad7-bb1d-5acc0a6779f5",
   "metadata": {},
   "source": [
    "<img src = 'https://encrypted-tbn0.gstatic.com/images?q=tbn:ANd9GcTcyI9Cvp53aaP9XeRn-ZKbJDH2QaWC72O26A&s'>"
   ]
  },
  {
   "cell_type": "markdown",
   "id": "cb24a6dc-9764-4243-a619-4008add4d257",
   "metadata": {},
   "source": [
    "\\begin{equation*}\n",
    "E_{k}=1/2m * v^2\n",
    "\\end{equation*}"
   ]
  },
  {
   "cell_type": "code",
   "execution_count": 9,
   "id": "d4b5381f-0c75-49f4-ae96-ae8af577802d",
   "metadata": {},
   "outputs": [
    {
     "name": "stdout",
     "output_type": "stream",
     "text": [
      "\n",
      "Windows IP Configuration\n",
      "\n",
      "\n",
      "Wireless LAN adapter Local Area Connection* 1:\n",
      "\n",
      "   Media State . . . . . . . . . . . : Media disconnected\n",
      "   Connection-specific DNS Suffix  . : \n",
      "\n",
      "Wireless LAN adapter Local Area Connection* 2:\n",
      "\n",
      "   Media State . . . . . . . . . . . : Media disconnected\n",
      "   Connection-specific DNS Suffix  . : \n",
      "\n",
      "Wireless LAN adapter Wi-Fi:\n",
      "\n",
      "   Connection-specific DNS Suffix  . : \n",
      "   Link-local IPv6 Address . . . . . : fe80::955a:50ff:69f1:6c76%7\n",
      "   IPv4 Address. . . . . . . . . . . : 172.20.10.6\n",
      "   Subnet Mask . . . . . . . . . . . : 255.255.255.240\n",
      "   Default Gateway . . . . . . . . . : 172.20.10.1\n",
      "\n",
      "Ethernet adapter Bluetooth Network Connection:\n",
      "\n",
      "   Media State . . . . . . . . . . . : Media disconnected\n",
      "   Connection-specific DNS Suffix  . : \n"
     ]
    }
   ],
   "source": [
    "!ipconfig"
   ]
  },
  {
   "cell_type": "code",
   "execution_count": 10,
   "id": "bd47c769-68ff-46a6-9df7-902ecc7d5731",
   "metadata": {},
   "outputs": [
    {
     "name": "stdout",
     "output_type": "stream",
     "text": [
      "\n",
      "Pinging google.com [64.233.164.138] with 32 bytes of data:\n",
      "Reply from 64.233.164.138: bytes=32 time=117ms TTL=54\n",
      "Reply from 64.233.164.138: bytes=32 time=189ms TTL=54\n",
      "Reply from 64.233.164.138: bytes=32 time=221ms TTL=54\n",
      "Reply from 64.233.164.138: bytes=32 time=296ms TTL=54\n",
      "\n",
      "Ping statistics for 64.233.164.138:\n",
      "    Packets: Sent = 4, Received = 4, Lost = 0 (0% loss),\n",
      "Approximate round trip times in milli-seconds:\n",
      "    Minimum = 117ms, Maximum = 296ms, Average = 205ms\n"
     ]
    }
   ],
   "source": [
    "!ping google.com"
   ]
  },
  {
   "cell_type": "code",
   "execution_count": 11,
   "id": "23dcdd81-7e7b-46cd-912b-7e767d63671d",
   "metadata": {},
   "outputs": [
    {
     "name": "stdout",
     "output_type": "stream",
     "text": [
      "0.00284147221917476\n"
     ]
    }
   ],
   "source": [
    "import math\n",
    "def func(t):\n",
    "    f = (9 * math.pi * t + 10 * math.cos(math.cos(t))) * math.exp(-2 * t) / (math.sqrt(t - math.sin(math.sin(t))))\n",
    " \n",
    "    return f\n",
    "print(func(5))"
   ]
  },
  {
   "cell_type": "code",
   "execution_count": 13,
   "id": "d9b3ec6b-ae0b-465a-bfa3-d39f67a10da1",
   "metadata": {},
   "outputs": [
    {
     "name": "stdout",
     "output_type": "stream",
     "text": [
      "[7]\n"
     ]
    }
   ],
   "source": [
    "def find_in_interval(num1, num2, num3, a, b):\n",
    "    # Убедимся, что a <= b\n",
    "    if a > b:\n",
    "        a, b = b, a\n",
    "    \n",
    "    # Ищем числа, принадлежащие интервалу [a, b]\n",
    "    result = [num for num in [num1, num2, num3] if a <= num <= b]\n",
    "    \n",
    "    return result\n",
    "\n",
    "# Пример использования функции\n",
    "num1 = 4\n",
    "num2 = 7\n",
    "num3 = 10\n",
    "a = 5\n",
    "b = 8\n",
    "\n",
    "print(find_in_interval(num1, num2, num3, a, b))\n"
   ]
  },
  {
   "cell_type": "code",
   "execution_count": 12,
   "id": "0f01ab3f-0ff2-435f-8b32-4cec064c6a5f",
   "metadata": {},
   "outputs": [
    {
     "name": "stdout",
     "output_type": "stream",
     "text": [
      "рандомное число от 1 до 20 под номером 1  равно  10\n",
      "рандомное число от 1 до 20 под номером 2  равно  2\n",
      "рандомное число от 1 до 20 под номером 3  равно  5\n",
      "рандомное число от 1 до 20 под номером 4  равно  7\n",
      "рандомное число от 1 до 20 под номером 5  равно  4\n",
      "рандомное число от 1 до 20 под номером 6  равно  8\n",
      "рандомное число от 1 до 20 под номером 7  равно  6\n",
      "рандомное число от 1 до 20 под номером 8  равно  8\n",
      "рандомное число от 1 до 20 под номером 9  равно  1\n",
      "рандомное число от 1 до 20 под номером 10  равно  1\n",
      "рандомное число от 1 до 20 под номером 11  равно  4\n",
      "рандомное число от 1 до 20 под номером 12  равно  1\n",
      "рандомное число от 1 до 20 под номером 13  равно  2\n",
      "рандомное число от 1 до 20 под номером 14  равно  9\n",
      "рандомное число от 1 до 20 под номером 15  равно  8\n",
      "рандомное число от 1 до 20 под номером 16  равно  6\n",
      "рандомное число от 1 до 20 под номером 17  равно  7\n",
      "рандомное число от 1 до 20 под номером 18  равно  2\n",
      "рандомное число от 1 до 20 под номером 19  равно  1\n",
      "рандомное число от 1 до 20 под номером 20  равно  6\n"
     ]
    }
   ],
   "source": [
    "import random\n",
    "\n",
    "i=1\n",
    "while i!=21:\n",
    "    print('рандомное число от 1 до 20 под номером',i,' равно ',random.randint(1, 10))\n",
    "    i=i+1"
   ]
  },
  {
   "cell_type": "code",
   "execution_count": 15,
   "id": "ea21d687-fcbb-4dba-b11b-734df576632a",
   "metadata": {},
   "outputs": [
    {
     "name": "stdout",
     "output_type": "stream",
     "text": [
      "7.743904818599539\n"
     ]
    }
   ],
   "source": [
    "a=1\n",
    "b=2\n",
    "c=3\n",
    "p=0\n",
    "while a<20:\n",
    "   p=p+(a/(b+c))\n",
    "   a=a+1\n",
    "   b=b+1\n",
    "   c=c+1\n",
    "print(p)"
   ]
  },
  {
   "cell_type": "raw",
   "id": "05c71c0d-7c55-44a3-aa25-9c5cd85613c9",
   "metadata": {},
   "source": [
    "Почему Python часто используется для работы с большими данными и машинного обучения?\n",
    "Python является простым языком сценариев, что облегчает взаимодействие с данными.\n",
    "Он предлагает широкий выбор библиотек, которые упрощают как начальную работу, так и создание сложных приложений.\n",
    "Python имеет широкое применение в промышленности, что делает его популярным выбором для профессионалов.\n",
    "Какие особенности имеет среда Jupyter Notebook, и почему она популярна среди специалистов по Data Science? Jupyter Notebook — это интерактивный блокнот, который изначально был веб-реализацией IPython и развился в самостоятельный проект. Он поддерживает работу с различными языками программирования, такими как Python, R, Julia, Scala и другими.\n",
    "Какие основные библиотеки Python используются для машинного обучения?\n",
    "Pandas\n",
    "Scipy\n",
    "Matplotlib\n",
    "Numpy\n",
    "Какие типы данных существуют в Python?\n",
    "int — целые числа\n",
    "float — вещественные числа\n",
    "str — строки\n",
    "list — списки\n",
    "tuple — кортежи\n",
    "dict — словари\n",
    "bool — булев тип (True, False)\n",
    "NoneType — отсутствие значения\n",
    "Какие основные языковые конструкции есть в Python?\n",
    "Условные операторы: if, else, elif\n",
    "Циклы: for, while\n",
    "Операторы для создания функций: def, lambda\n",
    "Какова роль оператора if … else? Оператор if … else используется для создания условий и проверки их истинности или ложности. Он позволяет выполнять разные действия в зависимости от того, удовлетворяет ли условие заданным критериям.\n",
    "Когда заканчивается выполнение цикла while? Выполнение цикла while заканчивается, когда условие цикла становится ложным, либо когда цикл прерывается вручную с помощью специальных операторов внутри цикла.\n",
    "Какие способы определения функций существуют в Python?\n",
    "Обычная функция, создаваемая с помощью ключевого слова def\n",
    "Анонимная функция, создаваемая с помощью ключевого слова lambda\n",
    "Что такое лямбда-функция? Лямбда-функция — это небольшая анонимная функция, которая может принимать любое количество аргументов, но содержит только одно выражение.\n",
    "Какая библиотека Python используется для выполнения основных математических функций? Библиотека math.\n",
    "Какие дополнительные возможности предоставляет среда Jupyter Notebook? В Jupyter Notebook можно использовать HTML-теги с заданием стилей, вставлять математические формулы с помощью TeX, а также выполнять консольные команды"
   ]
  },
  {
   "cell_type": "code",
   "execution_count": null,
   "id": "1195d5cf-18b2-4e5c-b550-28b5714f33bd",
   "metadata": {},
   "outputs": [],
   "source": []
  }
 ],
 "metadata": {
  "kernelspec": {
   "display_name": "Python 3 (ipykernel)",
   "language": "python",
   "name": "python3"
  },
  "language_info": {
   "codemirror_mode": {
    "name": "ipython",
    "version": 3
   },
   "file_extension": ".py",
   "mimetype": "text/x-python",
   "name": "python",
   "nbconvert_exporter": "python",
   "pygments_lexer": "ipython3",
   "version": "3.11.9"
  }
 },
 "nbformat": 4,
 "nbformat_minor": 5
}
