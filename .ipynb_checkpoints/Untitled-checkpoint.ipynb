{
 "cells": [
  {
   "cell_type": "code",
   "execution_count": 1,
   "id": "d50af17d-7825-47e2-83b8-84b96e82469f",
   "metadata": {},
   "outputs": [
    {
     "name": "stdout",
     "output_type": "stream",
     "text": [
      "12\n"
     ]
    }
   ],
   "source": [
    "x = 12\n",
    "print(x)"
   ]
  },
  {
   "cell_type": "code",
   "execution_count": 2,
   "id": "506f53a8-96aa-4ba3-917c-ebb97615558e",
   "metadata": {},
   "outputs": [
    {
     "name": "stdout",
     "output_type": "stream",
     "text": [
      "<class 'bool'>\n",
      "string\n",
      "[3, 4, 5]\n",
      "{'aa': 1, 'bb': 2}\n",
      "1\n",
      "<class 'NoneType'>\n"
     ]
    }
   ],
   "source": [
    "a=True\n",
    "t=type(a)\n",
    "print (t)\n",
    "l=\"string\"\n",
    "print(l)\n",
    "b=[3,4,5]\n",
    "print(b)\n",
    "c={'aa':1, \"bb\":2}\n",
    "print(c)\n",
    "print(c['aa'])\n",
    "d = None\n",
    "print(type(d))"
   ]
  },
  {
   "cell_type": "code",
   "execution_count": 3,
   "id": "380a02de-829a-46e6-a596-3ab813041937",
   "metadata": {},
   "outputs": [
    {
     "name": "stdout",
     "output_type": "stream",
     "text": [
      "корень из 169 равен  13.0\n",
      "факториал 6 равен  720\n",
      "логарифм 32 по основанию 2 равен  5.0\n"
     ]
    }
   ],
   "source": [
    "import math\n",
    "\n",
    "# Квадратный корень из 169\n",
    "p = math.sqrt(169)\n",
    "print('корень из 169 равен ', p)\n",
    "\n",
    "# Факториал числа 6\n",
    "p = math.factorial(6)\n",
    "print('факториал 6 равен ', p)\n",
    "\n",
    "# Логарифм 32 по основанию 2\n",
    "p = math.log(32, 2)\n",
    "print('логарифм 32 по основанию 2 равен ', p)\n"
   ]
  },
  {
   "cell_type": "code",
   "execution_count": 4,
   "id": "dcfc66f9-d8e8-4ed0-b061-f9607181ca98",
   "metadata": {},
   "outputs": [
    {
     "name": "stdout",
     "output_type": "stream",
     "text": [
      "First variable: True, second variable: 10\n",
      "равно 10\n",
      "Item: apple\n",
      "Item: banana\n",
      "Item: cherry\n",
      "Число от 5 до 29: 5\n",
      "Число от 5 до 29: 6\n",
      "Число от 5 до 29: 7\n",
      "Число от 5 до 29: 8\n",
      "Число от 5 до 29: 9\n",
      "Число от 5 до 29: 10\n",
      "Число от 5 до 29: 11\n",
      "Число от 5 до 29: 12\n",
      "Число от 5 до 29: 13\n",
      "Число от 5 до 29: 14\n",
      "Число от 5 до 29: 15\n",
      "Число от 5 до 29: 16\n",
      "Число от 5 до 29: 17\n",
      "Число от 5 до 29: 18\n",
      "Число от 5 до 29: 19\n",
      "Число от 5 до 29: 20\n",
      "Число от 5 до 29: 21\n",
      "Число от 5 до 29: 22\n",
      "Число от 5 до 29: 23\n",
      "Число от 5 до 29: 24\n",
      "Число от 5 до 29: 25\n",
      "Число от 5 до 29: 26\n",
      "Число от 5 до 29: 27\n",
      "Число от 5 до 29: 28\n",
      "Число от 5 до 29: 29\n"
     ]
    }
   ],
   "source": [
    "x = 10\n",
    "flag = True\n",
    "print('First variable: %s, second variable: %d' % (flag, x))\n",
    "\n",
    "if x < 10:\n",
    "    print('меньше 10')\n",
    "elif x == 10:\n",
    "    print('равно 10')\n",
    "else:\n",
    "    print('больше 10')\n",
    "\n",
    "items = [\"apple\", \"banana\", \"cherry\"]\n",
    "for item in items:\n",
    "    print('Item:', item)\n",
    "\n",
    "for num in range(5, 30):\n",
    "    print('Число от 5 до 29:', num)\n"
   ]
  },
  {
   "cell_type": "code",
   "execution_count": 5,
   "id": "7feec8d7-7d41-41e3-a4d4-f2abd253c995",
   "metadata": {},
   "outputs": [
    {
     "name": "stdout",
     "output_type": "stream",
     "text": [
      "Countdown: 10\n",
      "Countdown: 9\n",
      "Countdown: 8\n",
      "Countdown: 7\n",
      "Countdown: 6\n",
      "Countdown: 5\n",
      "Countdown: 4\n",
      "Countdown: 3\n",
      "Countdown: 2\n",
      "Countdown: 1\n",
      "Время вышло!\n"
     ]
    }
   ],
   "source": [
    "import time\n",
    "for i in range(10, 0, -1):\n",
    "    time.sleep(1)\n",
    "    print(f\"Countdown: {i}\")\n",
    "    \n",
    "print(\"Время вышло!\")\n"
   ]
  },
  {
   "cell_type": "code",
   "execution_count": 6,
   "id": "68a58cf8-8bf5-4d09-85c8-015e34cfca32",
   "metadata": {},
   "outputs": [
    {
     "name": "stdout",
     "output_type": "stream",
     "text": [
      "10\n",
      "20\n",
      "30\n",
      "40\n",
      "50\n"
     ]
    }
   ],
   "source": [
    "x = 5\n",
    "while x <= 25:\n",
    "    print(x * 2)\n",
    "    x += 5\n"
   ]
  },
  {
   "cell_type": "code",
   "execution_count": 7,
   "id": "46599b87-c3bd-46c2-af31-74fb303ab565",
   "metadata": {},
   "outputs": [
    {
     "name": "stdout",
     "output_type": "stream",
     "text": [
      "21\n",
      "64\n",
      "80\n",
      "40\n"
     ]
    }
   ],
   "source": [
    "def multiply(x, y):\n",
    "    return x * y\n",
    "print(multiply(3, 7))\n",
    "\n",
    "b = lambda a: a ** 3\n",
    "print(b(4))\n",
    "\n",
    "b = lambda x, y: (x + y) * (x - y)\n",
    "print(b(12, 8))\n",
    "\n",
    "b = lambda p, q, r: (p * q) + r\n",
    "print(b(5, 6, 10))\n",
    "\n"
   ]
  },
  {
   "cell_type": "markdown",
   "id": "03c93d55-692e-42a5-9338-187b0f2c934e",
   "metadata": {},
   "source": [
    "<h1>Heading 1</h1>\n",
    "<h2>Heading 2 </h2>\n",
    "<h3>Heading 3 </h3>\n",
    "<h4>Heading 4 </h4>\n",
    "<h5>Heading 5 </h5>\n",
    "<h6>Heading 6 </h6>"
   ]
  },
  {
   "cell_type": "markdown",
   "id": "216a11d1-3b55-4ad7-bb1d-5acc0a6779f5",
   "metadata": {},
   "source": [
    "<img src = 'https://encrypted-tbn0.gstatic.com/images?q=tbn:ANd9GcTcyI9Cvp53aaP9XeRn-ZKbJDH2QaWC72O26A&s'>"
   ]
  },
  {
   "cell_type": "markdown",
   "id": "cb24a6dc-9764-4243-a619-4008add4d257",
   "metadata": {},
   "source": [
    "\\begin{equation*}\n",
    "E_{k}=1/2m * v^2\n",
    "\\end{equation*}"
   ]
  },
  {
   "cell_type": "code",
   "execution_count": null,
   "id": "d4b5381f-0c75-49f4-ae96-ae8af577802d",
   "metadata": {},
   "outputs": [],
   "source": []
  }
 ],
 "metadata": {
  "kernelspec": {
   "display_name": "Python 3 (ipykernel)",
   "language": "python",
   "name": "python3"
  },
  "language_info": {
   "codemirror_mode": {
    "name": "ipython",
    "version": 3
   },
   "file_extension": ".py",
   "mimetype": "text/x-python",
   "name": "python",
   "nbconvert_exporter": "python",
   "pygments_lexer": "ipython3",
   "version": "3.11.9"
  }
 },
 "nbformat": 4,
 "nbformat_minor": 5
}
